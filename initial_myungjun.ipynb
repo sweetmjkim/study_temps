{
  "nbformat": 4,
  "nbformat_minor": 0,
  "metadata": {
    "colab": {
      "provenance": [],
      "authorship_tag": "ABX9TyNZc6vagk9bc5jVTUiTeBj/",
      "include_colab_link": true
    },
    "kernelspec": {
      "name": "python3",
      "display_name": "Python 3"
    },
    "language_info": {
      "name": "python"
    }
  },
  "cells": [
    {
      "cell_type": "markdown",
      "metadata": {
        "id": "view-in-github",
        "colab_type": "text"
      },
      "source": [
        "<a href=\"https://colab.research.google.com/github/sweetmjkim/study_temps/blob/main/initial_myungjun.ipynb\" target=\"_parent\"><img src=\"https://colab.research.google.com/assets/colab-badge.svg\" alt=\"Open In Colab\"/></a>"
      ]
    },
    {
      "cell_type": "code",
      "source": [
        "print(\"github\")"
      ],
      "metadata": {
        "colab": {
          "base_uri": "https://localhost:8080/"
        },
        "id": "JyhalIc9Gg_F",
        "outputId": "c7802cb6-beca-4f9b-e5fa-3035d3ad0471"
      },
      "execution_count": 1,
      "outputs": [
        {
          "output_type": "stream",
          "name": "stdout",
          "text": [
            "github\n"
          ]
        }
      ]
    },
    {
      "cell_type": "code",
      "execution_count": null,
      "metadata": {
        "colab": {
          "base_uri": "https://localhost:8080/"
        },
        "id": "xZF7KQPykf9R",
        "outputId": "7f4ac162-9c4b-4a4e-ccd0-86eb0875b561"
      },
      "outputs": [
        {
          "output_type": "stream",
          "name": "stdout",
          "text": [
            "안녕하세요. 첫 개발 시작입니다.\n"
          ]
        }
      ],
      "source": [
        "# 여긴 화면 출력 명령어\n",
        "print(\"안녕하세요. 첫 개발 시작입니다.\") # 안녕. 출력"
      ]
    },
    {
      "cell_type": "code",
      "source": [
        "# quest 1\n",
        "print(\"김명준은 데이터 엔지니어 양성과정을 듭습니다.\")"
      ],
      "metadata": {
        "colab": {
          "base_uri": "https://localhost:8080/"
        },
        "id": "nFmg8IgNoie0",
        "outputId": "0c83934d-9a27-4a25-a8d1-fd8c5ac95ebe"
      },
      "execution_count": null,
      "outputs": [
        {
          "output_type": "stream",
          "name": "stdout",
          "text": [
            "김명준은 데이터 엔지니어 양성과정을 듭습니다.\n"
          ]
        }
      ]
    },
    {
      "cell_type": "code",
      "source": [
        "# 숫자화된 문자 출력 with 상수\n",
        "print(\"4 + 5\")"
      ],
      "metadata": {
        "colab": {
          "base_uri": "https://localhost:8080/"
        },
        "id": "Hl0HRAsbtkEV",
        "outputId": "4f91a3a2-d9b9-47c0-bab2-03f421406021"
      },
      "execution_count": null,
      "outputs": [
        {
          "output_type": "stream",
          "name": "stdout",
          "text": [
            "4 + 5\n"
          ]
        }
      ]
    },
    {
      "cell_type": "code",
      "source": [
        "# 숫자 with 상수\n",
        "print(4 + 5)"
      ],
      "metadata": {
        "colab": {
          "base_uri": "https://localhost:8080/"
        },
        "id": "jHEdcOc2uYjr",
        "outputId": "c7496136-e7f4-47ad-aa8a-871666170f1d"
      },
      "execution_count": null,
      "outputs": [
        {
          "output_type": "stream",
          "name": "stdout",
          "text": [
            "9\n"
          ]
        }
      ]
    },
    {
      "cell_type": "code",
      "source": [
        "# 숫자화된 문자 출력 with 변수\n",
        "numberwithval = \"4 + 5\"\n",
        "print(numberwithval)"
      ],
      "metadata": {
        "colab": {
          "base_uri": "https://localhost:8080/"
        },
        "id": "BxNYnJESvf1c",
        "outputId": "daf91b66-3980-4003-909c-3b39f0c1da0d"
      },
      "execution_count": null,
      "outputs": [
        {
          "output_type": "stream",
          "name": "stdout",
          "text": [
            "4 + 5\n"
          ]
        }
      ]
    },
    {
      "cell_type": "code",
      "source": [
        "# quest 2\n",
        "# 숫자화된 문자 출력 with 변수\n",
        "numberwithval = \"40 + 50\"\n",
        "print(numberwithval)"
      ],
      "metadata": {
        "colab": {
          "base_uri": "https://localhost:8080/"
        },
        "id": "B5k4oN1T03cV",
        "outputId": "2c284885-30d0-4b24-d1f9-c654f6acc33b"
      },
      "execution_count": null,
      "outputs": [
        {
          "output_type": "stream",
          "name": "stdout",
          "text": [
            "40 + 50\n"
          ]
        }
      ]
    },
    {
      "cell_type": "code",
      "source": [
        "# 숫자화된 변수 출력 with 변수\n",
        "numbers = numberwithval + \" = 90\" # 4 + 5 = 9\n",
        "print(numbers)"
      ],
      "metadata": {
        "colab": {
          "base_uri": "https://localhost:8080/"
        },
        "id": "7byf2jpP1zK2",
        "outputId": "3e548b75-f53f-4341-b109-96b696898713"
      },
      "execution_count": null,
      "outputs": [
        {
          "output_type": "stream",
          "name": "stdout",
          "text": [
            "40 + 50 = 90\n"
          ]
        }
      ]
    },
    {
      "cell_type": "code",
      "source": [
        "define_number = 10\n",
        "numberwithval = numberwithval + str(define_number)\n",
        "print(numberwithval)"
      ],
      "metadata": {
        "colab": {
          "base_uri": "https://localhost:8080/"
        },
        "id": "S7rcGUfL4J7N",
        "outputId": "2a4ceb10-d8f0-45ef-d9f2-c4a914f464a9"
      },
      "execution_count": null,
      "outputs": [
        {
          "output_type": "stream",
          "name": "stdout",
          "text": [
            "40 + 5010\n"
          ]
        }
      ]
    },
    {
      "cell_type": "code",
      "source": [
        "# 데이터 타입이 숫자 with 변수\n",
        "result = 4 + 5\n",
        "print(result)"
      ],
      "metadata": {
        "colab": {
          "base_uri": "https://localhost:8080/"
        },
        "id": "E_nHLxqeBTzN",
        "outputId": "8a311238-20b4-4c92-90d5-f04d1e8c3cd6"
      },
      "execution_count": null,
      "outputs": [
        {
          "output_type": "stream",
          "name": "stdout",
          "text": [
            "9\n"
          ]
        }
      ]
    },
    {
      "cell_type": "code",
      "source": [
        "# 두 수를 입력 받아 변수에 넣고 결과 출력\n",
        "input = 4\n",
        "inputtwo = 5\n",
        "result = input + inputtwo\n",
        "print(result)"
      ],
      "metadata": {
        "colab": {
          "base_uri": "https://localhost:8080/"
        },
        "id": "JlQcwzy1CUaM",
        "outputId": "8193d8de-8dfc-4d73-b2ab-bc9fa3ae41ab"
      },
      "execution_count": null,
      "outputs": [
        {
          "output_type": "stream",
          "name": "stdout",
          "text": [
            "9\n"
          ]
        }
      ]
    },
    {
      "cell_type": "code",
      "source": [
        "# 위에 내용 반복\n",
        "input = 8\n",
        "inputtwo = 9\n",
        "result = input + inputtwo\n",
        "print(result)"
      ],
      "metadata": {
        "colab": {
          "base_uri": "https://localhost:8080/"
        },
        "id": "FNqOaLr3EQY9",
        "outputId": "c809e3b3-b161-4b34-e5e1-7affc2c3d19e"
      },
      "execution_count": null,
      "outputs": [
        {
          "output_type": "stream",
          "name": "stdout",
          "text": [
            "17\n"
          ]
        }
      ]
    }
  ]
}